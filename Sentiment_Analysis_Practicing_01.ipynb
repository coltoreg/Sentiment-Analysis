{
  "nbformat": 4,
  "nbformat_minor": 0,
  "metadata": {
    "colab": {
      "name": "Sentiment Analysis Practicing-Lesson 01",
      "provenance": [],
      "collapsed_sections": [],
      "toc_visible": true
    },
    "kernelspec": {
      "name": "python3",
      "display_name": "Python 3"
    },
    "widgets": {
      "application/vnd.jupyter.widget-state+json": {
        "1a40c6ba6a184997957a810b53fd14ee": {
          "model_module": "@jupyter-widgets/controls",
          "model_name": "HBoxModel",
          "state": {
            "_view_name": "HBoxView",
            "_dom_classes": [],
            "_model_name": "HBoxModel",
            "_view_module": "@jupyter-widgets/controls",
            "_model_module_version": "1.5.0",
            "_view_count": null,
            "_view_module_version": "1.5.0",
            "box_style": "",
            "layout": "IPY_MODEL_8919b5dcc9bd4cf49b98b8638803d192",
            "_model_module": "@jupyter-widgets/controls",
            "children": [
              "IPY_MODEL_6dd76c36fc8a4cc9b522854f25967b73",
              "IPY_MODEL_6358dd5e857a4d528bcc1cbe649772f2"
            ]
          }
        },
        "8919b5dcc9bd4cf49b98b8638803d192": {
          "model_module": "@jupyter-widgets/base",
          "model_name": "LayoutModel",
          "state": {
            "_view_name": "LayoutView",
            "grid_template_rows": null,
            "right": null,
            "justify_content": null,
            "_view_module": "@jupyter-widgets/base",
            "overflow": null,
            "_model_module_version": "1.2.0",
            "_view_count": null,
            "flex_flow": null,
            "width": null,
            "min_width": null,
            "border": null,
            "align_items": null,
            "bottom": null,
            "_model_module": "@jupyter-widgets/base",
            "top": null,
            "grid_column": null,
            "overflow_y": null,
            "overflow_x": null,
            "grid_auto_flow": null,
            "grid_area": null,
            "grid_template_columns": null,
            "flex": null,
            "_model_name": "LayoutModel",
            "justify_items": null,
            "grid_row": null,
            "max_height": null,
            "align_content": null,
            "visibility": null,
            "align_self": null,
            "height": null,
            "min_height": null,
            "padding": null,
            "grid_auto_rows": null,
            "grid_gap": null,
            "max_width": null,
            "order": null,
            "_view_module_version": "1.2.0",
            "grid_template_areas": null,
            "object_position": null,
            "object_fit": null,
            "grid_auto_columns": null,
            "margin": null,
            "display": null,
            "left": null
          }
        },
        "6dd76c36fc8a4cc9b522854f25967b73": {
          "model_module": "@jupyter-widgets/controls",
          "model_name": "FloatProgressModel",
          "state": {
            "_view_name": "ProgressView",
            "style": "IPY_MODEL_6f73819474e942f784a308b82c1c39fa",
            "_dom_classes": [],
            "description": "100%",
            "_model_name": "FloatProgressModel",
            "bar_style": "success",
            "max": 6000,
            "_view_module": "@jupyter-widgets/controls",
            "_model_module_version": "1.5.0",
            "value": 6000,
            "_view_count": null,
            "_view_module_version": "1.5.0",
            "orientation": "horizontal",
            "min": 0,
            "description_tooltip": null,
            "_model_module": "@jupyter-widgets/controls",
            "layout": "IPY_MODEL_7fa6d42246be4076b0ff53fde0a2f4f9"
          }
        },
        "6358dd5e857a4d528bcc1cbe649772f2": {
          "model_module": "@jupyter-widgets/controls",
          "model_name": "HTMLModel",
          "state": {
            "_view_name": "HTMLView",
            "style": "IPY_MODEL_c612eaf9ef4d4e029dbc810c2614c18d",
            "_dom_classes": [],
            "description": "",
            "_model_name": "HTMLModel",
            "placeholder": "​",
            "_view_module": "@jupyter-widgets/controls",
            "_model_module_version": "1.5.0",
            "value": " 6000/6000 [00:18&lt;00:00, 321.12it/s]",
            "_view_count": null,
            "_view_module_version": "1.5.0",
            "description_tooltip": null,
            "_model_module": "@jupyter-widgets/controls",
            "layout": "IPY_MODEL_48df431a138c4f94889df8a9edaf39ee"
          }
        },
        "6f73819474e942f784a308b82c1c39fa": {
          "model_module": "@jupyter-widgets/controls",
          "model_name": "ProgressStyleModel",
          "state": {
            "_view_name": "StyleView",
            "_model_name": "ProgressStyleModel",
            "description_width": "initial",
            "_view_module": "@jupyter-widgets/base",
            "_model_module_version": "1.5.0",
            "_view_count": null,
            "_view_module_version": "1.2.0",
            "bar_color": null,
            "_model_module": "@jupyter-widgets/controls"
          }
        },
        "7fa6d42246be4076b0ff53fde0a2f4f9": {
          "model_module": "@jupyter-widgets/base",
          "model_name": "LayoutModel",
          "state": {
            "_view_name": "LayoutView",
            "grid_template_rows": null,
            "right": null,
            "justify_content": null,
            "_view_module": "@jupyter-widgets/base",
            "overflow": null,
            "_model_module_version": "1.2.0",
            "_view_count": null,
            "flex_flow": null,
            "width": null,
            "min_width": null,
            "border": null,
            "align_items": null,
            "bottom": null,
            "_model_module": "@jupyter-widgets/base",
            "top": null,
            "grid_column": null,
            "overflow_y": null,
            "overflow_x": null,
            "grid_auto_flow": null,
            "grid_area": null,
            "grid_template_columns": null,
            "flex": null,
            "_model_name": "LayoutModel",
            "justify_items": null,
            "grid_row": null,
            "max_height": null,
            "align_content": null,
            "visibility": null,
            "align_self": null,
            "height": null,
            "min_height": null,
            "padding": null,
            "grid_auto_rows": null,
            "grid_gap": null,
            "max_width": null,
            "order": null,
            "_view_module_version": "1.2.0",
            "grid_template_areas": null,
            "object_position": null,
            "object_fit": null,
            "grid_auto_columns": null,
            "margin": null,
            "display": null,
            "left": null
          }
        },
        "c612eaf9ef4d4e029dbc810c2614c18d": {
          "model_module": "@jupyter-widgets/controls",
          "model_name": "DescriptionStyleModel",
          "state": {
            "_view_name": "StyleView",
            "_model_name": "DescriptionStyleModel",
            "description_width": "",
            "_view_module": "@jupyter-widgets/base",
            "_model_module_version": "1.5.0",
            "_view_count": null,
            "_view_module_version": "1.2.0",
            "_model_module": "@jupyter-widgets/controls"
          }
        },
        "48df431a138c4f94889df8a9edaf39ee": {
          "model_module": "@jupyter-widgets/base",
          "model_name": "LayoutModel",
          "state": {
            "_view_name": "LayoutView",
            "grid_template_rows": null,
            "right": null,
            "justify_content": null,
            "_view_module": "@jupyter-widgets/base",
            "overflow": null,
            "_model_module_version": "1.2.0",
            "_view_count": null,
            "flex_flow": null,
            "width": null,
            "min_width": null,
            "border": null,
            "align_items": null,
            "bottom": null,
            "_model_module": "@jupyter-widgets/base",
            "top": null,
            "grid_column": null,
            "overflow_y": null,
            "overflow_x": null,
            "grid_auto_flow": null,
            "grid_area": null,
            "grid_template_columns": null,
            "flex": null,
            "_model_name": "LayoutModel",
            "justify_items": null,
            "grid_row": null,
            "max_height": null,
            "align_content": null,
            "visibility": null,
            "align_self": null,
            "height": null,
            "min_height": null,
            "padding": null,
            "grid_auto_rows": null,
            "grid_gap": null,
            "max_width": null,
            "order": null,
            "_view_module_version": "1.2.0",
            "grid_template_areas": null,
            "object_position": null,
            "object_fit": null,
            "grid_auto_columns": null,
            "margin": null,
            "display": null,
            "left": null
          }
        }
      }
    }
  },
  "cells": [
    {
      "cell_type": "markdown",
      "metadata": {
        "id": "9S4r5PZHosup",
        "colab_type": "text"
      },
      "source": [
        "# **Lesson01: Lexicon-based Methods**"
      ]
    },
    {
      "cell_type": "markdown",
      "metadata": {
        "id": "lN5ErrE-o5Xa",
        "colab_type": "text"
      },
      "source": [
        "## Download ChnSentiCorp dataset"
      ]
    },
    {
      "cell_type": "code",
      "metadata": {
        "id": "z6gNUbVaWS2L",
        "colab_type": "code",
        "colab": {
          "base_uri": "https://localhost:8080/",
          "height": 359
        },
        "outputId": "5830586d-2e91-4523-ee40-4f196db24e10"
      },
      "source": [
        "import requests\n",
        "import pandas as pd\n",
        "from io import StringIO\n",
        "\n",
        "\n",
        "request = requests.get(\n",
        "    \"https://raw.githubusercontent.com/SophonPlus/ChineseNlpCorpus/master/datasets/ChnSentiCorp_htl_all/ChnSentiCorp_htl_all.csv\")\n",
        "with open(\"ChnSentiCorp_htl_all.csv\", \"wb\") as f:\n",
        "  f.write(request.content)\n",
        "    \n",
        "df = pd.read_csv(StringIO(request.content.decode()), sep=\",\")\n",
        "df.sample(10, random_state=0)"
      ],
      "execution_count": 9,
      "outputs": [
        {
          "output_type": "execute_result",
          "data": {
            "text/html": [
              "<div>\n",
              "<style scoped>\n",
              "    .dataframe tbody tr th:only-of-type {\n",
              "        vertical-align: middle;\n",
              "    }\n",
              "\n",
              "    .dataframe tbody tr th {\n",
              "        vertical-align: top;\n",
              "    }\n",
              "\n",
              "    .dataframe thead th {\n",
              "        text-align: right;\n",
              "    }\n",
              "</style>\n",
              "<table border=\"1\" class=\"dataframe\">\n",
              "  <thead>\n",
              "    <tr style=\"text-align: right;\">\n",
              "      <th></th>\n",
              "      <th>label</th>\n",
              "      <th>review</th>\n",
              "    </tr>\n",
              "  </thead>\n",
              "  <tbody>\n",
              "    <tr>\n",
              "      <th>1726</th>\n",
              "      <td>1</td>\n",
              "      <td>房间还算干净整洁,服务也可以,以这个价格来说,不错了,建议大家要定有窗户的房间,但是餐厅不够...</td>\n",
              "    </tr>\n",
              "    <tr>\n",
              "      <th>1085</th>\n",
              "      <td>1</td>\n",
              "      <td>这里的早餐是我看到的最差的一个,基本上没什么吃的,就看到服务员在不听的加白粥,下次在来我是不...</td>\n",
              "    </tr>\n",
              "    <tr>\n",
              "      <th>2404</th>\n",
              "      <td>1</td>\n",
              "      <td>房间设施还是很先进的，自动化程度相当高。但是我最喜欢的还是演艺馆的演出。竟然看了6场。水平真...</td>\n",
              "    </tr>\n",
              "    <tr>\n",
              "      <th>2368</th>\n",
              "      <td>1</td>\n",
              "      <td>住的的是两房一厅，卧室偏小，到卫生间要路过客厅和门厅，不太方便。服务尚可，早餐以欧式为主。入...</td>\n",
              "    </tr>\n",
              "    <tr>\n",
              "      <th>6337</th>\n",
              "      <td>0</td>\n",
              "      <td>175元入住标房B。大厅和电梯里有异味。房间里桌子也没擦干净,洗浴间装潢等设备太旧。早饭很差...</td>\n",
              "    </tr>\n",
              "    <tr>\n",
              "      <th>6175</th>\n",
              "      <td>0</td>\n",
              "      <td>我全说客观的，大家自己参考。1、酒店电话不能打外线，携程为什么不说明？2、拖鞋不是一次性的3...</td>\n",
              "    </tr>\n",
              "    <tr>\n",
              "      <th>3357</th>\n",
              "      <td>1</td>\n",
              "      <td>因为有了去年的经验，去之前我和酒店联系了一下，得知相比豪华商务间还是标准间相对安静，所以在携...</td>\n",
              "    </tr>\n",
              "    <tr>\n",
              "      <th>3443</th>\n",
              "      <td>1</td>\n",
              "      <td>酒店在东营当地是最高档的，服务人员训练有素，服务意识很好。酒店很新，房间也很干净，零点厅的饭...</td>\n",
              "    </tr>\n",
              "    <tr>\n",
              "      <th>509</th>\n",
              "      <td>1</td>\n",
              "      <td>酒店房间还算可以，对得起五星级的称号。早餐品种也算是丰富。不足之处酒店近着大马路，楼层太低晚...</td>\n",
              "    </tr>\n",
              "    <tr>\n",
              "      <th>2735</th>\n",
              "      <td>1</td>\n",
              "      <td>交通便利，酒店位于商业中心。前台服务好，房间整洁干净。下次还会入住。</td>\n",
              "    </tr>\n",
              "  </tbody>\n",
              "</table>\n",
              "</div>"
            ],
            "text/plain": [
              "      label                                             review\n",
              "1726      1  房间还算干净整洁,服务也可以,以这个价格来说,不错了,建议大家要定有窗户的房间,但是餐厅不够...\n",
              "1085      1  这里的早餐是我看到的最差的一个,基本上没什么吃的,就看到服务员在不听的加白粥,下次在来我是不...\n",
              "2404      1  房间设施还是很先进的，自动化程度相当高。但是我最喜欢的还是演艺馆的演出。竟然看了6场。水平真...\n",
              "2368      1  住的的是两房一厅，卧室偏小，到卫生间要路过客厅和门厅，不太方便。服务尚可，早餐以欧式为主。入...\n",
              "6337      0  175元入住标房B。大厅和电梯里有异味。房间里桌子也没擦干净,洗浴间装潢等设备太旧。早饭很差...\n",
              "6175      0  我全说客观的，大家自己参考。1、酒店电话不能打外线，携程为什么不说明？2、拖鞋不是一次性的3...\n",
              "3357      1  因为有了去年的经验，去之前我和酒店联系了一下，得知相比豪华商务间还是标准间相对安静，所以在携...\n",
              "3443      1  酒店在东营当地是最高档的，服务人员训练有素，服务意识很好。酒店很新，房间也很干净，零点厅的饭...\n",
              "509       1  酒店房间还算可以，对得起五星级的称号。早餐品种也算是丰富。不足之处酒店近着大马路，楼层太低晚...\n",
              "2735      1                 交通便利，酒店位于商业中心。前台服务好，房间整洁干净。下次还会入住。"
            ]
          },
          "metadata": {
            "tags": []
          },
          "execution_count": 9
        }
      ]
    },
    {
      "cell_type": "markdown",
      "metadata": {
        "id": "rPdG9CjCXMGu",
        "colab_type": "text"
      },
      "source": [
        "### Check the data distribution"
      ]
    },
    {
      "cell_type": "code",
      "metadata": {
        "id": "JpVgH9gZWcvv",
        "colab_type": "code",
        "colab": {
          "base_uri": "https://localhost:8080/",
          "height": 71
        },
        "outputId": "826788e6-db4e-4dc6-830a-af5eb203cd12"
      },
      "source": [
        "tmp = df.label.value_counts()\n",
        "tmp.index = ['Positive', 'Negative']\n",
        "tmp"
      ],
      "execution_count": 10,
      "outputs": [
        {
          "output_type": "execute_result",
          "data": {
            "text/plain": [
              "Positive    5322\n",
              "Negative    2444\n",
              "Name: label, dtype: int64"
            ]
          },
          "metadata": {
            "tags": []
          },
          "execution_count": 10
        }
      ]
    },
    {
      "cell_type": "markdown",
      "metadata": {
        "id": "AnByhTypXbDa",
        "colab_type": "text"
      },
      "source": [
        "### Generate Balance Data"
      ]
    },
    {
      "cell_type": "code",
      "metadata": {
        "id": "2CL0IajwWhzv",
        "colab_type": "code",
        "colab": {
          "base_uri": "https://localhost:8080/",
          "height": 71
        },
        "outputId": "3e8ba353-3a9a-4009-8470-8961bc47efcf"
      },
      "source": [
        "import pandas as pd\n",
        "\n",
        "\n",
        "seed = 42\n",
        "\n",
        "\n",
        "def get_balance_corpus(corpus_size, corpus_pos, corpus_neg, seed=42):\n",
        "  sample_size = corpus_size // 2\n",
        "  pos_sample = corpus_pos.sample(\n",
        "    sample_size, random_state=seed,\n",
        "    replace=corpus_pos.shape[0]<sample_size)\n",
        "  neg_sample = corpus_neg.sample(\n",
        "    sample_size, random_state=seed,\n",
        "    replace=corpus_neg.shape[0]<sample_size)\n",
        "  pd_corpus_balance = pd.concat([pos_sample, neg_sample])\n",
        "  return pd_corpus_balance\n",
        "\n",
        "df = pd.read_csv('ChnSentiCorp_htl_all.csv')\n",
        "\n",
        "pd_positive = df[df.label==1]\n",
        "pd_negative = df[df.label==0]\n",
        "\n",
        "ChnSentiCorp_htl_ba_6000 = get_balance_corpus(\n",
        "  6000, pd_positive, pd_negative, seed=seed)\n",
        "\n",
        "tmp = ChnSentiCorp_htl_ba_6000.label.value_counts()\n",
        "tmp.index = ['Positive', 'Negative']\n",
        "tmp"
      ],
      "execution_count": 11,
      "outputs": [
        {
          "output_type": "execute_result",
          "data": {
            "text/plain": [
              "Positive    3000\n",
              "Negative    3000\n",
              "Name: label, dtype: int64"
            ]
          },
          "metadata": {
            "tags": []
          },
          "execution_count": 11
        }
      ]
    },
    {
      "cell_type": "markdown",
      "metadata": {
        "id": "O8OeUI8EXe0j",
        "colab_type": "text"
      },
      "source": [
        "### Clean the dataset\n",
        "remove newline or EOL signal"
      ]
    },
    {
      "cell_type": "code",
      "metadata": {
        "id": "A9IbRqkHWkZ8",
        "colab_type": "code",
        "colab": {
          "base_uri": "https://localhost:8080/",
          "height": 359
        },
        "outputId": "e38a310b-c5d4-41ba-fb5f-37b30be12d92"
      },
      "source": [
        "ChnSentiCorp_htl_ba_6000.review = ChnSentiCorp_htl_ba_6000.review.str.replace('\\n', ' ')\n",
        "ChnSentiCorp_htl_ba_6000.review = ChnSentiCorp_htl_ba_6000.review.str.replace('\\r', ' ')\n",
        "ChnSentiCorp_htl_ba_6000.review = ChnSentiCorp_htl_ba_6000.review.str.replace('\\t', ' ')\n",
        "ChnSentiCorp_htl_ba_6000.review = ChnSentiCorp_htl_ba_6000.review.str.replace('[^\\w\\s]', ' ')\n",
        "ChnSentiCorp_htl_ba_6000.sample(10, random_state=seed)"
      ],
      "execution_count": 12,
      "outputs": [
        {
          "output_type": "execute_result",
          "data": {
            "text/html": [
              "<div>\n",
              "<style scoped>\n",
              "    .dataframe tbody tr th:only-of-type {\n",
              "        vertical-align: middle;\n",
              "    }\n",
              "\n",
              "    .dataframe tbody tr th {\n",
              "        vertical-align: top;\n",
              "    }\n",
              "\n",
              "    .dataframe thead th {\n",
              "        text-align: right;\n",
              "    }\n",
              "</style>\n",
              "<table border=\"1\" class=\"dataframe\">\n",
              "  <thead>\n",
              "    <tr style=\"text-align: right;\">\n",
              "      <th></th>\n",
              "      <th>label</th>\n",
              "      <th>review</th>\n",
              "    </tr>\n",
              "  </thead>\n",
              "  <tbody>\n",
              "    <tr>\n",
              "      <th>818</th>\n",
              "      <td>1</td>\n",
              "      <td>没有想象的离西湖近 年轻人走走也得10 15分钟 因为窗不是面对西湖的 所以景基本看不到西湖...</td>\n",
              "    </tr>\n",
              "    <tr>\n",
              "      <th>7384</th>\n",
              "      <td>0</td>\n",
              "      <td>住的标准单人间实在是小 房间里一张大床已经塞得满满的了 设施极其简陋除了电视机和烧水壶其他什...</td>\n",
              "    </tr>\n",
              "    <tr>\n",
              "      <th>2715</th>\n",
              "      <td>1</td>\n",
              "      <td>初到当地 在携程上订了一晚这家酒店 印象中原来认为新疆很偏僻 没想到酒店的环境及服务与内地的...</td>\n",
              "    </tr>\n",
              "    <tr>\n",
              "      <th>2984</th>\n",
              "      <td>1</td>\n",
              "      <td>酒店的床比一般的香港酒店大 双人房的床都很大 枕头超多超舒服 酒店正好在金钟的正上方 逛街很...</td>\n",
              "    </tr>\n",
              "    <tr>\n",
              "      <th>5770</th>\n",
              "      <td>0</td>\n",
              "      <td>在网上综合考虑后 并打电话给汉庭 汉庭说靠街边的窗户都换成双层窗户 隔音很好 也有停车场 汉...</td>\n",
              "    </tr>\n",
              "    <tr>\n",
              "      <th>3950</th>\n",
              "      <td>1</td>\n",
              "      <td>总体感觉很不错 酒店硬件和软件都还满意 前台服务生服务热情到位 房间安静 不嘈杂 总体房间还...</td>\n",
              "    </tr>\n",
              "    <tr>\n",
              "      <th>926</th>\n",
              "      <td>1</td>\n",
              "      <td>感觉还算可以的 不过没有香格里拉那么好 价格和协议的也没什么区别 所以还是去香格里拉较划算点</td>\n",
              "    </tr>\n",
              "    <tr>\n",
              "      <th>696</th>\n",
              "      <td>1</td>\n",
              "      <td>各方面都一般 只要期望值不太高就还可以</td>\n",
              "    </tr>\n",
              "    <tr>\n",
              "      <th>2943</th>\n",
              "      <td>1</td>\n",
              "      <td>这次来的比较晚 出去吃饭不太方便 就在酒店的餐厅吃的海鲜自助 还可以 不过感觉价格稍微偏高了...</td>\n",
              "    </tr>\n",
              "    <tr>\n",
              "      <th>422</th>\n",
              "      <td>1</td>\n",
              "      <td>我订的是行政房 但酒店给我免费升级到公寓房 是他们新的房子 房间设施 装修都非常不错 而且可...</td>\n",
              "    </tr>\n",
              "  </tbody>\n",
              "</table>\n",
              "</div>"
            ],
            "text/plain": [
              "      label                                             review\n",
              "818       1  没有想象的离西湖近 年轻人走走也得10 15分钟 因为窗不是面对西湖的 所以景基本看不到西湖...\n",
              "7384      0  住的标准单人间实在是小 房间里一张大床已经塞得满满的了 设施极其简陋除了电视机和烧水壶其他什...\n",
              "2715      1  初到当地 在携程上订了一晚这家酒店 印象中原来认为新疆很偏僻 没想到酒店的环境及服务与内地的...\n",
              "2984      1  酒店的床比一般的香港酒店大 双人房的床都很大 枕头超多超舒服 酒店正好在金钟的正上方 逛街很...\n",
              "5770      0  在网上综合考虑后 并打电话给汉庭 汉庭说靠街边的窗户都换成双层窗户 隔音很好 也有停车场 汉...\n",
              "3950      1  总体感觉很不错 酒店硬件和软件都还满意 前台服务生服务热情到位 房间安静 不嘈杂 总体房间还...\n",
              "926       1    感觉还算可以的 不过没有香格里拉那么好 价格和协议的也没什么区别 所以还是去香格里拉较划算点 \n",
              "696       1                               各方面都一般 只要期望值不太高就还可以 \n",
              "2943      1  这次来的比较晚 出去吃饭不太方便 就在酒店的餐厅吃的海鲜自助 还可以 不过感觉价格稍微偏高了...\n",
              "422       1  我订的是行政房 但酒店给我免费升级到公寓房 是他们新的房子 房间设施 装修都非常不错 而且可..."
            ]
          },
          "metadata": {
            "tags": []
          },
          "execution_count": 12
        }
      ]
    },
    {
      "cell_type": "markdown",
      "metadata": {
        "id": "jCs6OZqPYKt-",
        "colab_type": "text"
      },
      "source": [
        "## **Transform from Simplified Chinese to Tranditional Chinese (Optional)**\n"
      ]
    },
    {
      "cell_type": "markdown",
      "metadata": {
        "id": "YiXvQU1kjH6Z",
        "colab_type": "text"
      },
      "source": [
        "### install OpenCC"
      ]
    },
    {
      "cell_type": "code",
      "metadata": {
        "id": "1oMgZ-f1YDSQ",
        "colab_type": "code",
        "colab": {}
      },
      "source": [
        "# !pip install OpenCC"
      ],
      "execution_count": 5,
      "outputs": []
    },
    {
      "cell_type": "markdown",
      "metadata": {
        "id": "u8r-KG4dpRoC",
        "colab_type": "text"
      },
      "source": [
        "### Transfer Chinese between zh-CN and zh-TW\n"
      ]
    },
    {
      "cell_type": "code",
      "metadata": {
        "id": "5iSNmuq8Xdn5",
        "colab_type": "code",
        "colab": {}
      },
      "source": [
        "# from opencc import OpenCC\n",
        "\n",
        "\n",
        "# cc = OpenCC('s2twp')  # s2twp, tw2sp\n",
        "\n",
        "# split_sign = '-split-'\n",
        "# ChnSentiCorp_htl_ba_6000.review = ChnSentiCorp_htl_ba_6000.review.astype(str)\n",
        "# converted = cc.convert(split_sign.join(ChnSentiCorp_htl_ba_6000['review'].values))\n",
        "\n",
        "# ChnSentiCorp_htl_ba_6000['review_converted'] = converted.split(split_sign)\n",
        "# ChnSentiCorp_htl_ba_6000.sample(10, random_state=seed)"
      ],
      "execution_count": 6,
      "outputs": []
    },
    {
      "cell_type": "markdown",
      "metadata": {
        "id": "szPunUf2YSDs",
        "colab_type": "text"
      },
      "source": [
        "## **Read the sentiment lexicon**\n",
        "Using NRC sentiment dictionary from Canada"
      ]
    },
    {
      "cell_type": "markdown",
      "metadata": {
        "id": "FroEB0xBcZPv",
        "colab_type": "text"
      },
      "source": [
        "### Download NRC lexicon"
      ]
    },
    {
      "cell_type": "code",
      "metadata": {
        "id": "2xl9P-u6agni",
        "colab_type": "code",
        "colab": {}
      },
      "source": [
        "import zipfile\n",
        "from io import BytesIO\n",
        "\n",
        "\n",
        "request = requests.get(\"http://sentiment.nrc.ca/lexicons-for-research/NRC-Emotion-Lexicon.zip\")\n",
        "\n",
        "z = zipfile.ZipFile(BytesIO(request.content))\n",
        "z.extractall(\"NRC-Emotion-Lexicon\")"
      ],
      "execution_count": 13,
      "outputs": []
    },
    {
      "cell_type": "markdown",
      "metadata": {
        "id": "2YTN3FcgePfu",
        "colab_type": "text"
      },
      "source": [
        "### Read lexicon and do some clean process"
      ]
    },
    {
      "cell_type": "code",
      "metadata": {
        "id": "tJFRW67-X2tK",
        "colab_type": "code",
        "colab": {
          "base_uri": "https://localhost:8080/",
          "height": 514
        },
        "outputId": "72fb506c-237a-4b66-e4fb-8bd4cd2e57c1"
      },
      "source": [
        "sentiment_list = ['Negative', 'Positive']\n",
        "emotion_list = ['Anger', 'Anticipation', 'Disgust', 'Fear', 'Joy', 'Sadness', 'Surprise', 'Trust']\n",
        "\n",
        "nrc = pd.read_excel('NRC-Emotion-Lexicon/NRC-Emotion-Lexicon-v0.92/NRC-Emotion-Lexicon-v0.92-In105Languages-Nov2017Translations.xlsx')\n",
        "\n",
        "nrc = nrc[['Chinese (Simplified) (zh-CN)'] + sentiment_list + emotion_list]  # Chinese (Traditional) (zh-TW)\n",
        "nrc.rename(columns={'Chinese (Simplified) (zh-CN)': 'word'}, inplace=True)\n",
        "\n",
        "nrc = nrc.groupby('word').sum().reset_index()\n",
        "nrc.sample(15, random_state=0)"
      ],
      "execution_count": 14,
      "outputs": [
        {
          "output_type": "execute_result",
          "data": {
            "text/html": [
              "<div>\n",
              "<style scoped>\n",
              "    .dataframe tbody tr th:only-of-type {\n",
              "        vertical-align: middle;\n",
              "    }\n",
              "\n",
              "    .dataframe tbody tr th {\n",
              "        vertical-align: top;\n",
              "    }\n",
              "\n",
              "    .dataframe thead th {\n",
              "        text-align: right;\n",
              "    }\n",
              "</style>\n",
              "<table border=\"1\" class=\"dataframe\">\n",
              "  <thead>\n",
              "    <tr style=\"text-align: right;\">\n",
              "      <th></th>\n",
              "      <th>word</th>\n",
              "      <th>Negative</th>\n",
              "      <th>Positive</th>\n",
              "      <th>Anger</th>\n",
              "      <th>Anticipation</th>\n",
              "      <th>Disgust</th>\n",
              "      <th>Fear</th>\n",
              "      <th>Joy</th>\n",
              "      <th>Sadness</th>\n",
              "      <th>Surprise</th>\n",
              "      <th>Trust</th>\n",
              "    </tr>\n",
              "  </thead>\n",
              "  <tbody>\n",
              "    <tr>\n",
              "      <th>4676</th>\n",
              "      <td>改革者</td>\n",
              "      <td>0</td>\n",
              "      <td>1</td>\n",
              "      <td>0</td>\n",
              "      <td>0</td>\n",
              "      <td>0</td>\n",
              "      <td>0</td>\n",
              "      <td>0</td>\n",
              "      <td>0</td>\n",
              "      <td>0</td>\n",
              "      <td>0</td>\n",
              "    </tr>\n",
              "    <tr>\n",
              "      <th>2513</th>\n",
              "      <td>图书管理员</td>\n",
              "      <td>0</td>\n",
              "      <td>0</td>\n",
              "      <td>0</td>\n",
              "      <td>0</td>\n",
              "      <td>0</td>\n",
              "      <td>0</td>\n",
              "      <td>0</td>\n",
              "      <td>0</td>\n",
              "      <td>0</td>\n",
              "      <td>0</td>\n",
              "    </tr>\n",
              "    <tr>\n",
              "      <th>7635</th>\n",
              "      <td>结语</td>\n",
              "      <td>0</td>\n",
              "      <td>0</td>\n",
              "      <td>0</td>\n",
              "      <td>0</td>\n",
              "      <td>0</td>\n",
              "      <td>0</td>\n",
              "      <td>0</td>\n",
              "      <td>0</td>\n",
              "      <td>0</td>\n",
              "      <td>0</td>\n",
              "    </tr>\n",
              "    <tr>\n",
              "      <th>8781</th>\n",
              "      <td>豹</td>\n",
              "      <td>0</td>\n",
              "      <td>0</td>\n",
              "      <td>0</td>\n",
              "      <td>0</td>\n",
              "      <td>0</td>\n",
              "      <td>0</td>\n",
              "      <td>0</td>\n",
              "      <td>0</td>\n",
              "      <td>0</td>\n",
              "      <td>0</td>\n",
              "    </tr>\n",
              "    <tr>\n",
              "      <th>4741</th>\n",
              "      <td>教学</td>\n",
              "      <td>0</td>\n",
              "      <td>0</td>\n",
              "      <td>0</td>\n",
              "      <td>0</td>\n",
              "      <td>0</td>\n",
              "      <td>0</td>\n",
              "      <td>0</td>\n",
              "      <td>0</td>\n",
              "      <td>0</td>\n",
              "      <td>0</td>\n",
              "    </tr>\n",
              "    <tr>\n",
              "      <th>4842</th>\n",
              "      <td>新郎</td>\n",
              "      <td>0</td>\n",
              "      <td>1</td>\n",
              "      <td>0</td>\n",
              "      <td>1</td>\n",
              "      <td>0</td>\n",
              "      <td>0</td>\n",
              "      <td>1</td>\n",
              "      <td>0</td>\n",
              "      <td>0</td>\n",
              "      <td>1</td>\n",
              "    </tr>\n",
              "    <tr>\n",
              "      <th>6712</th>\n",
              "      <td>男子气</td>\n",
              "      <td>0</td>\n",
              "      <td>1</td>\n",
              "      <td>0</td>\n",
              "      <td>0</td>\n",
              "      <td>0</td>\n",
              "      <td>0</td>\n",
              "      <td>0</td>\n",
              "      <td>0</td>\n",
              "      <td>0</td>\n",
              "      <td>0</td>\n",
              "    </tr>\n",
              "    <tr>\n",
              "      <th>3776</th>\n",
              "      <td>心理学家</td>\n",
              "      <td>0</td>\n",
              "      <td>0</td>\n",
              "      <td>0</td>\n",
              "      <td>0</td>\n",
              "      <td>0</td>\n",
              "      <td>0</td>\n",
              "      <td>0</td>\n",
              "      <td>0</td>\n",
              "      <td>0</td>\n",
              "      <td>0</td>\n",
              "    </tr>\n",
              "    <tr>\n",
              "      <th>3194</th>\n",
              "      <td>寒意</td>\n",
              "      <td>0</td>\n",
              "      <td>0</td>\n",
              "      <td>0</td>\n",
              "      <td>0</td>\n",
              "      <td>0</td>\n",
              "      <td>0</td>\n",
              "      <td>0</td>\n",
              "      <td>0</td>\n",
              "      <td>0</td>\n",
              "      <td>0</td>\n",
              "    </tr>\n",
              "    <tr>\n",
              "      <th>1308</th>\n",
              "      <td>凉意</td>\n",
              "      <td>0</td>\n",
              "      <td>1</td>\n",
              "      <td>0</td>\n",
              "      <td>0</td>\n",
              "      <td>0</td>\n",
              "      <td>0</td>\n",
              "      <td>0</td>\n",
              "      <td>0</td>\n",
              "      <td>0</td>\n",
              "      <td>0</td>\n",
              "    </tr>\n",
              "    <tr>\n",
              "      <th>3025</th>\n",
              "      <td>孤</td>\n",
              "      <td>0</td>\n",
              "      <td>0</td>\n",
              "      <td>0</td>\n",
              "      <td>0</td>\n",
              "      <td>0</td>\n",
              "      <td>0</td>\n",
              "      <td>0</td>\n",
              "      <td>0</td>\n",
              "      <td>0</td>\n",
              "      <td>0</td>\n",
              "    </tr>\n",
              "    <tr>\n",
              "      <th>6376</th>\n",
              "      <td>熟</td>\n",
              "      <td>0</td>\n",
              "      <td>2</td>\n",
              "      <td>0</td>\n",
              "      <td>1</td>\n",
              "      <td>0</td>\n",
              "      <td>0</td>\n",
              "      <td>0</td>\n",
              "      <td>0</td>\n",
              "      <td>0</td>\n",
              "      <td>1</td>\n",
              "    </tr>\n",
              "    <tr>\n",
              "      <th>1678</th>\n",
              "      <td>十足</td>\n",
              "      <td>0</td>\n",
              "      <td>0</td>\n",
              "      <td>0</td>\n",
              "      <td>0</td>\n",
              "      <td>0</td>\n",
              "      <td>0</td>\n",
              "      <td>0</td>\n",
              "      <td>0</td>\n",
              "      <td>0</td>\n",
              "      <td>0</td>\n",
              "    </tr>\n",
              "    <tr>\n",
              "      <th>3279</th>\n",
              "      <td>小狗</td>\n",
              "      <td>0</td>\n",
              "      <td>1</td>\n",
              "      <td>0</td>\n",
              "      <td>1</td>\n",
              "      <td>0</td>\n",
              "      <td>0</td>\n",
              "      <td>0</td>\n",
              "      <td>0</td>\n",
              "      <td>0</td>\n",
              "      <td>1</td>\n",
              "    </tr>\n",
              "    <tr>\n",
              "      <th>7466</th>\n",
              "      <td>糖蜜</td>\n",
              "      <td>0</td>\n",
              "      <td>0</td>\n",
              "      <td>0</td>\n",
              "      <td>0</td>\n",
              "      <td>0</td>\n",
              "      <td>0</td>\n",
              "      <td>0</td>\n",
              "      <td>0</td>\n",
              "      <td>0</td>\n",
              "      <td>0</td>\n",
              "    </tr>\n",
              "  </tbody>\n",
              "</table>\n",
              "</div>"
            ],
            "text/plain": [
              "       word  Negative  Positive  Anger  ...  Joy  Sadness  Surprise  Trust\n",
              "4676    改革者         0         1      0  ...    0        0         0      0\n",
              "2513  图书管理员         0         0      0  ...    0        0         0      0\n",
              "7635     结语         0         0      0  ...    0        0         0      0\n",
              "8781      豹         0         0      0  ...    0        0         0      0\n",
              "4741     教学         0         0      0  ...    0        0         0      0\n",
              "4842     新郎         0         1      0  ...    1        0         0      1\n",
              "6712    男子气         0         1      0  ...    0        0         0      0\n",
              "3776   心理学家         0         0      0  ...    0        0         0      0\n",
              "3194     寒意         0         0      0  ...    0        0         0      0\n",
              "1308     凉意         0         1      0  ...    0        0         0      0\n",
              "3025      孤         0         0      0  ...    0        0         0      0\n",
              "6376      熟         0         2      0  ...    0        0         0      1\n",
              "1678     十足         0         0      0  ...    0        0         0      0\n",
              "3279     小狗         0         1      0  ...    0        0         0      1\n",
              "7466     糖蜜         0         0      0  ...    0        0         0      0\n",
              "\n",
              "[15 rows x 11 columns]"
            ]
          },
          "metadata": {
            "tags": []
          },
          "execution_count": 14
        }
      ]
    },
    {
      "cell_type": "markdown",
      "metadata": {
        "id": "YyD4yF3KeUvz",
        "colab_type": "text"
      },
      "source": [
        "### Seperate sentiment and emotion dictionary"
      ]
    },
    {
      "cell_type": "code",
      "metadata": {
        "id": "6dmQoQ7MfGU3",
        "colab_type": "code",
        "colab": {}
      },
      "source": [
        "import numpy as np\n",
        "\n",
        "\n",
        "nrc_sentiment = nrc[sentiment_list].copy().values\n",
        "with np.errstate(divide='ignore', invalid='ignore'):\n",
        "  nrc_sentiment = np.true_divide(nrc_sentiment, nrc_sentiment.sum(axis=1)[:, np.newaxis])\n",
        "  nrc_sentiment[~np.isfinite(nrc_sentiment)] = 0\n",
        "\n",
        "nrc_sentiment = dict(zip(nrc['word'], nrc_sentiment))\n",
        "\n",
        "nrc_emotion = nrc[emotion_list].copy().values\n",
        "with np.errstate(divide='ignore', invalid='ignore'):\n",
        "  nrc_emotion = np.true_divide(nrc_emotion, nrc_emotion.sum(axis=1)[:, np.newaxis])\n",
        "  nrc_emotion[~np.isfinite(nrc_emotion)] = 0\n",
        "\n",
        "nrc_emotion = dict(zip(nrc['word'], nrc_emotion))"
      ],
      "execution_count": 15,
      "outputs": []
    },
    {
      "cell_type": "markdown",
      "metadata": {
        "id": "2gFzwCEphCgT",
        "colab_type": "text"
      },
      "source": [
        "### Test the sentiment and emotion result of word"
      ]
    },
    {
      "cell_type": "code",
      "metadata": {
        "id": "DP7m7cJ7fcW8",
        "colab_type": "code",
        "colab": {
          "base_uri": "https://localhost:8080/",
          "height": 71
        },
        "outputId": "df799e4f-97ae-4b07-e643-caffff9f3ed7"
      },
      "source": [
        "test_word = '一致'\n",
        "\n",
        "try:\n",
        "  nrc_sentiment[test_word]\n",
        "  print('test word: ', test_word)\n",
        "  print('sentiment [{}]: {}'.format('/'.join(sentiment_list), nrc_sentiment[test_word]))\n",
        "  print('emotion [{}]: {}'.format('/'.join(emotion_list), nrc_emotion[test_word]))\n",
        "except KeyError:\n",
        "  print('test word {} not in the lexicon.'.format(test_word))"
      ],
      "execution_count": 16,
      "outputs": [
        {
          "output_type": "stream",
          "text": [
            "test word:  一致\n",
            "sentiment [Negative/Positive]: [0. 1.]\n",
            "emotion [Anger/Anticipation/Disgust/Fear/Joy/Sadness/Surprise/Trust]: [0. 0. 0. 0. 0. 0. 0. 1.]\n"
          ],
          "name": "stdout"
        }
      ]
    },
    {
      "cell_type": "markdown",
      "metadata": {
        "id": "keSRHnlThVx1",
        "colab_type": "text"
      },
      "source": [
        "## **Tokenize**"
      ]
    },
    {
      "cell_type": "markdown",
      "metadata": {
        "id": "ts5jape0LY1M",
        "colab_type": "text"
      },
      "source": [
        "### Get vocabulary for jieba tokenizer"
      ]
    },
    {
      "cell_type": "code",
      "metadata": {
        "id": "aoduvuluLYc5",
        "colab_type": "code",
        "colab": {}
      },
      "source": [
        "vocab = nrc['word'].values"
      ],
      "execution_count": 17,
      "outputs": []
    },
    {
      "cell_type": "markdown",
      "metadata": {
        "id": "APqvf4hxpyOp",
        "colab_type": "text"
      },
      "source": [
        "### Initialize jieba for chinese tokenize also add vocabulary to help the tokenize result better"
      ]
    },
    {
      "cell_type": "code",
      "metadata": {
        "id": "R_GZQNhvhNSH",
        "colab_type": "code",
        "colab": {
          "base_uri": "https://localhost:8080/",
          "height": 89
        },
        "outputId": "d864d7e7-ab7d-40bc-f06e-369d0a46ab87"
      },
      "source": [
        "import jieba\n",
        "\n",
        "\n",
        "for word in vocab:\n",
        "  jieba.add_word(word)"
      ],
      "execution_count": 18,
      "outputs": [
        {
          "output_type": "stream",
          "text": [
            "Building prefix dict from the default dictionary ...\n",
            "Dumping model to file cache /tmp/jieba.cache\n",
            "Loading model cost 0.900 seconds.\n",
            "Prefix dict has been built successfully.\n"
          ],
          "name": "stderr"
        }
      ]
    },
    {
      "cell_type": "markdown",
      "metadata": {
        "id": "yqVjUyypjYG7",
        "colab_type": "text"
      },
      "source": [
        "### download stopword list to avoid useless word impact the result."
      ]
    },
    {
      "cell_type": "code",
      "metadata": {
        "id": "YmSIFb4vjU1i",
        "colab_type": "code",
        "colab": {}
      },
      "source": [
        "stopwords = []\n",
        "\n",
        "request = requests.get(\"https://raw.githubusercontent.com/goto456/stopwords/master/hit_stopwords.txt\")\n",
        "stopwords += request.content.decode().split('\\n')\n",
        "\n",
        "request = requests.get(\"https://raw.githubusercontent.com/goto456/stopwords/master/baidu_stopwords.txt\")\n",
        "stopwords += request.content.decode().split('\\n')\n",
        "\n",
        "request = requests.get(\"https://raw.githubusercontent.com/goto456/stopwords/master/cn_stopwords.txt\")\n",
        "stopwords += request.content.decode().split('\\n')\n",
        "\n",
        "request = requests.get(\"https://raw.githubusercontent.com/goto456/stopwords/master/scu_stopwords.txt\")\n",
        "stopwords += request.content.decode().split('\\n')\n",
        "\n",
        "stopwords = list(set(stopwords) - set(vocab))"
      ],
      "execution_count": 19,
      "outputs": []
    },
    {
      "cell_type": "markdown",
      "metadata": {
        "id": "9wiz1tQdjuAJ",
        "colab_type": "text"
      },
      "source": [
        "### Let tokenzie the data!"
      ]
    },
    {
      "cell_type": "code",
      "metadata": {
        "id": "akmKlFhSjnMq",
        "colab_type": "code",
        "colab": {
          "base_uri": "https://localhost:8080/",
          "height": 562,
          "referenced_widgets": [
            "1a40c6ba6a184997957a810b53fd14ee",
            "8919b5dcc9bd4cf49b98b8638803d192",
            "6dd76c36fc8a4cc9b522854f25967b73",
            "6358dd5e857a4d528bcc1cbe649772f2",
            "6f73819474e942f784a308b82c1c39fa",
            "7fa6d42246be4076b0ff53fde0a2f4f9",
            "c612eaf9ef4d4e029dbc810c2614c18d",
            "48df431a138c4f94889df8a9edaf39ee"
          ]
        },
        "outputId": "1470f932-d931-4f72-b6c5-c1dc1a24d307"
      },
      "source": [
        "from tqdm.auto import tqdm\n",
        "\n",
        "\n",
        "tqdm.pandas()\n",
        "\n",
        "ChnSentiCorp_htl_ba_6000['cut'] = ChnSentiCorp_htl_ba_6000.review.progress_apply(\n",
        "  lambda x: [w for w in jieba.lcut(x) if w not in stopwords])\n",
        "\n",
        "ChnSentiCorp_htl_ba_6000.sample(10, random_state=seed)"
      ],
      "execution_count": 20,
      "outputs": [
        {
          "output_type": "display_data",
          "data": {
            "application/vnd.jupyter.widget-view+json": {
              "model_id": "1a40c6ba6a184997957a810b53fd14ee",
              "version_minor": 0,
              "version_major": 2
            },
            "text/plain": [
              "HBox(children=(FloatProgress(value=0.0, max=6000.0), HTML(value='')))"
            ]
          },
          "metadata": {
            "tags": []
          }
        },
        {
          "output_type": "stream",
          "text": [
            "\n"
          ],
          "name": "stdout"
        },
        {
          "output_type": "execute_result",
          "data": {
            "text/html": [
              "<div>\n",
              "<style scoped>\n",
              "    .dataframe tbody tr th:only-of-type {\n",
              "        vertical-align: middle;\n",
              "    }\n",
              "\n",
              "    .dataframe tbody tr th {\n",
              "        vertical-align: top;\n",
              "    }\n",
              "\n",
              "    .dataframe thead th {\n",
              "        text-align: right;\n",
              "    }\n",
              "</style>\n",
              "<table border=\"1\" class=\"dataframe\">\n",
              "  <thead>\n",
              "    <tr style=\"text-align: right;\">\n",
              "      <th></th>\n",
              "      <th>label</th>\n",
              "      <th>review</th>\n",
              "      <th>cut</th>\n",
              "    </tr>\n",
              "  </thead>\n",
              "  <tbody>\n",
              "    <tr>\n",
              "      <th>818</th>\n",
              "      <td>1</td>\n",
              "      <td>没有想象的离西湖近 年轻人走走也得10 15分钟 因为窗不是面对西湖的 所以景基本看不到西湖...</td>\n",
              "      <td>[没有, 想象, 西湖, 近, 年轻人, 走走, 10, 15, 分钟, 窗, 面对, 西湖...</td>\n",
              "    </tr>\n",
              "    <tr>\n",
              "      <th>7384</th>\n",
              "      <td>0</td>\n",
              "      <td>住的标准单人间实在是小 房间里一张大床已经塞得满满的了 设施极其简陋除了电视机和烧水壶其他什...</td>\n",
              "      <td>[住, 标准, 单人间, 实在, 小, 房间, 里, 一张, 大床, 塞得, 满满的, 设施...</td>\n",
              "    </tr>\n",
              "    <tr>\n",
              "      <th>2715</th>\n",
              "      <td>1</td>\n",
              "      <td>初到当地 在携程上订了一晚这家酒店 印象中原来认为新疆很偏僻 没想到酒店的环境及服务与内地的...</td>\n",
              "      <td>[初到, 携程, 上订, 一晚, 这家, 酒店, 印象, 中, 新疆, 偏僻, 没想到, 酒...</td>\n",
              "    </tr>\n",
              "    <tr>\n",
              "      <th>2984</th>\n",
              "      <td>1</td>\n",
              "      <td>酒店的床比一般的香港酒店大 双人房的床都很大 枕头超多超舒服 酒店正好在金钟的正上方 逛街很...</td>\n",
              "      <td>[酒店, 床, 比, 一般, 香港, 酒店, 大, 双人房, 床, 很大, 枕头, 超多超,...</td>\n",
              "    </tr>\n",
              "    <tr>\n",
              "      <th>5770</th>\n",
              "      <td>0</td>\n",
              "      <td>在网上综合考虑后 并打电话给汉庭 汉庭说靠街边的窗户都换成双层窗户 隔音很好 也有停车场 汉...</td>\n",
              "      <td>[网上, 综合, 后, 打电话, 给汉庭, 汉庭, 说, 靠, 街边, 窗户, 换成, 双层...</td>\n",
              "    </tr>\n",
              "    <tr>\n",
              "      <th>3950</th>\n",
              "      <td>1</td>\n",
              "      <td>总体感觉很不错 酒店硬件和软件都还满意 前台服务生服务热情到位 房间安静 不嘈杂 总体房间还...</td>\n",
              "      <td>[总体, 感觉, 不错, 酒店, 硬件, 和, 软件, 满意, 前台, 服务生, 服务, 热...</td>\n",
              "    </tr>\n",
              "    <tr>\n",
              "      <th>926</th>\n",
              "      <td>1</td>\n",
              "      <td>感觉还算可以的 不过没有香格里拉那么好 价格和协议的也没什么区别 所以还是去香格里拉较划算点</td>\n",
              "      <td>[感觉, 算, 没有, 香格里拉, 好, 价格, 和, 协议, 没什么, 区别, 香格里拉,...</td>\n",
              "    </tr>\n",
              "    <tr>\n",
              "      <th>696</th>\n",
              "      <td>1</td>\n",
              "      <td>各方面都一般 只要期望值不太高就还可以</td>\n",
              "      <td>[方面, 一般, 期望值, 不太高]</td>\n",
              "    </tr>\n",
              "    <tr>\n",
              "      <th>2943</th>\n",
              "      <td>1</td>\n",
              "      <td>这次来的比较晚 出去吃饭不太方便 就在酒店的餐厅吃的海鲜自助 还可以 不过感觉价格稍微偏高了...</td>\n",
              "      <td>[来, 比较, 晚, 吃饭, 不太, 方便, 酒店, 餐厅, 吃, 海鲜, 自助, 感觉, ...</td>\n",
              "    </tr>\n",
              "    <tr>\n",
              "      <th>422</th>\n",
              "      <td>1</td>\n",
              "      <td>我订的是行政房 但酒店给我免费升级到公寓房 是他们新的房子 房间设施 装修都非常不错 而且可...</td>\n",
              "      <td>[我订, 行政, 房, 酒店, 给, 免费, 升级, 公寓, 房, 新, 房子, 房间, 设...</td>\n",
              "    </tr>\n",
              "  </tbody>\n",
              "</table>\n",
              "</div>"
            ],
            "text/plain": [
              "      label  ...                                                cut\n",
              "818       1  ...  [没有, 想象, 西湖, 近, 年轻人, 走走, 10, 15, 分钟, 窗, 面对, 西湖...\n",
              "7384      0  ...  [住, 标准, 单人间, 实在, 小, 房间, 里, 一张, 大床, 塞得, 满满的, 设施...\n",
              "2715      1  ...  [初到, 携程, 上订, 一晚, 这家, 酒店, 印象, 中, 新疆, 偏僻, 没想到, 酒...\n",
              "2984      1  ...  [酒店, 床, 比, 一般, 香港, 酒店, 大, 双人房, 床, 很大, 枕头, 超多超,...\n",
              "5770      0  ...  [网上, 综合, 后, 打电话, 给汉庭, 汉庭, 说, 靠, 街边, 窗户, 换成, 双层...\n",
              "3950      1  ...  [总体, 感觉, 不错, 酒店, 硬件, 和, 软件, 满意, 前台, 服务生, 服务, 热...\n",
              "926       1  ...  [感觉, 算, 没有, 香格里拉, 好, 价格, 和, 协议, 没什么, 区别, 香格里拉,...\n",
              "696       1  ...                                 [方面, 一般, 期望值, 不太高]\n",
              "2943      1  ...  [来, 比较, 晚, 吃饭, 不太, 方便, 酒店, 餐厅, 吃, 海鲜, 自助, 感觉, ...\n",
              "422       1  ...  [我订, 行政, 房, 酒店, 给, 免费, 升级, 公寓, 房, 新, 房子, 房间, 设...\n",
              "\n",
              "[10 rows x 3 columns]"
            ]
          },
          "metadata": {
            "tags": []
          },
          "execution_count": 20
        }
      ]
    },
    {
      "cell_type": "markdown",
      "metadata": {
        "id": "TPoERJggsV87",
        "colab_type": "text"
      },
      "source": [
        "save dataset for the next session"
      ]
    },
    {
      "cell_type": "code",
      "metadata": {
        "id": "Xt1YnE7bsU_I",
        "colab_type": "code",
        "colab": {}
      },
      "source": [
        "ChnSentiCorp_htl_ba_6000.to_csv('ChnSentiCorp_htl_ba_6000_cutted.csv', index=False, compression='gzip')"
      ],
      "execution_count": 21,
      "outputs": []
    },
    {
      "cell_type": "markdown",
      "metadata": {
        "id": "ATpxx4_zj-k_",
        "colab_type": "text"
      },
      "source": [
        "## **Using Sklearn CountVectorizer to get the multi-hot encoder**"
      ]
    },
    {
      "cell_type": "markdown",
      "metadata": {
        "id": "n96OrPvGkRv9",
        "colab_type": "text"
      },
      "source": [
        "### Initialize a count vector object and feed the vocab as vocabulary"
      ]
    },
    {
      "cell_type": "code",
      "metadata": {
        "id": "Yx9LVFyvj90w",
        "colab_type": "code",
        "colab": {}
      },
      "source": [
        "from sklearn.feature_extraction.text import CountVectorizer\n",
        "\n",
        "\n",
        "cnt_vec = CountVectorizer(vocabulary=vocab)"
      ],
      "execution_count": 22,
      "outputs": []
    },
    {
      "cell_type": "markdown",
      "metadata": {
        "id": "uJ3r0eeVkXab",
        "colab_type": "text"
      },
      "source": [
        "### Transform the word list to multi-hot label vector and turn into original word list"
      ]
    },
    {
      "cell_type": "code",
      "metadata": {
        "id": "AyEJKBhfj4K4",
        "colab_type": "code",
        "colab": {
          "base_uri": "https://localhost:8080/",
          "height": 512
        },
        "outputId": "952e6710-62e3-498c-a316-5f5c50f4ce8c"
      },
      "source": [
        "if isinstance(ChnSentiCorp_htl_ba_6000.cut[0], list):\n",
        "  ChnSentiCorp_htl_ba_6000.cut = ChnSentiCorp_htl_ba_6000.cut.apply(lambda x: ' '.join(x))\n",
        "\n",
        "multi_hot = cnt_vec.transform(ChnSentiCorp_htl_ba_6000.cut)\n",
        "ChnSentiCorp_htl_ba_6000['word'] = [vocab[np.argwhere(row > 0)[:, 1]] for row in multi_hot]\n",
        "\n",
        "ChnSentiCorp_htl_ba_6000.sample(10, random_state=seed)"
      ],
      "execution_count": 23,
      "outputs": [
        {
          "output_type": "execute_result",
          "data": {
            "text/html": [
              "<div>\n",
              "<style scoped>\n",
              "    .dataframe tbody tr th:only-of-type {\n",
              "        vertical-align: middle;\n",
              "    }\n",
              "\n",
              "    .dataframe tbody tr th {\n",
              "        vertical-align: top;\n",
              "    }\n",
              "\n",
              "    .dataframe thead th {\n",
              "        text-align: right;\n",
              "    }\n",
              "</style>\n",
              "<table border=\"1\" class=\"dataframe\">\n",
              "  <thead>\n",
              "    <tr style=\"text-align: right;\">\n",
              "      <th></th>\n",
              "      <th>label</th>\n",
              "      <th>review</th>\n",
              "      <th>cut</th>\n",
              "      <th>word</th>\n",
              "    </tr>\n",
              "  </thead>\n",
              "  <tbody>\n",
              "    <tr>\n",
              "      <th>818</th>\n",
              "      <td>1</td>\n",
              "      <td>没有想象的离西湖近 年轻人走走也得10 15分钟 因为窗不是面对西湖的 所以景基本看不到西湖...</td>\n",
              "      <td>没有 想象 西湖 近 年轻人 走走 10 15 分钟 窗 面对 西湖 景 看不到 西湖 把头...</td>\n",
              "      <td>[分钟, 勉强, 想象, 没有, 远处, 面对]</td>\n",
              "    </tr>\n",
              "    <tr>\n",
              "      <th>7384</th>\n",
              "      <td>0</td>\n",
              "      <td>住的标准单人间实在是小 房间里一张大床已经塞得满满的了 设施极其简陋除了电视机和烧水壶其他什...</td>\n",
              "      <td>住 标准 单人间 实在 小 房间 里 一张 大床 塞得 满满的 设施 简陋 电视机 和 烧 ...</td>\n",
              "      <td>[中等, 临街, 安全, 实际, 房间, 标准, 水壶, 水平, 没有, 电梯, 设施]</td>\n",
              "    </tr>\n",
              "    <tr>\n",
              "      <th>2715</th>\n",
              "      <td>1</td>\n",
              "      <td>初到当地 在携程上订了一晚这家酒店 印象中原来认为新疆很偏僻 没想到酒店的环境及服务与内地的...</td>\n",
              "      <td>初到 携程 上订 一晚 这家 酒店 印象 中 新疆 偏僻 没想到 酒店 环境 服务 与 内地...</td>\n",
              "      <td>[印象, 服务, 环境]</td>\n",
              "    </tr>\n",
              "    <tr>\n",
              "      <th>2984</th>\n",
              "      <td>1</td>\n",
              "      <td>酒店的床比一般的香港酒店大 双人房的床都很大 枕头超多超舒服 酒店正好在金钟的正上方 逛街很...</td>\n",
              "      <td>酒店 床 比 一般 香港 酒店 大 双人房 床 很大 枕头 超多超 舒服 酒店 正好 金钟 ...</td>\n",
              "      <td>[一般, 国内, 房间, 方便, 服务, 枕头, 特别, 直接, 细节, 缺乏, 金钟, 非常]</td>\n",
              "    </tr>\n",
              "    <tr>\n",
              "      <th>5770</th>\n",
              "      <td>0</td>\n",
              "      <td>在网上综合考虑后 并打电话给汉庭 汉庭说靠街边的窗户都换成双层窗户 隔音很好 也有停车场 汉...</td>\n",
              "      <td>网上 综合 后 打电话 给汉庭 汉庭 说 靠 街边 窗户 换成 双层 窗户 隔音 好 停车场...</td>\n",
              "      <td>[一般, 人员, 双层, 发票, 只是, 噪声, 对面, 广告, 开始, 感觉, 愤怒, 房...</td>\n",
              "    </tr>\n",
              "    <tr>\n",
              "      <th>3950</th>\n",
              "      <td>1</td>\n",
              "      <td>总体感觉很不错 酒店硬件和软件都还满意 前台服务生服务热情到位 房间安静 不嘈杂 总体房间还...</td>\n",
              "      <td>总体 感觉 不错 酒店 硬件 和 软件 满意 前台 服务生 服务 热情 到位 房间 安静 嘈...</td>\n",
              "      <td>[不同, 丰富, 入住, 可能, 同样, 品种, 嘈杂, 学院, 安静, 希望, 带来, 广...</td>\n",
              "    </tr>\n",
              "    <tr>\n",
              "      <th>926</th>\n",
              "      <td>1</td>\n",
              "      <td>感觉还算可以的 不过没有香格里拉那么好 价格和协议的也没什么区别 所以还是去香格里拉较划算点</td>\n",
              "      <td>感觉 算 没有 香格里拉 好 价格 和 协议 没什么 区别 香格里拉 划算 点</td>\n",
              "      <td>[区别, 协议, 感觉, 没有]</td>\n",
              "    </tr>\n",
              "    <tr>\n",
              "      <th>696</th>\n",
              "      <td>1</td>\n",
              "      <td>各方面都一般 只要期望值不太高就还可以</td>\n",
              "      <td>方面 一般 期望值 不太高</td>\n",
              "      <td>[一般, 方面]</td>\n",
              "    </tr>\n",
              "    <tr>\n",
              "      <th>2943</th>\n",
              "      <td>1</td>\n",
              "      <td>这次来的比较晚 出去吃饭不太方便 就在酒店的餐厅吃的海鲜自助 还可以 不过感觉价格稍微偏高了...</td>\n",
              "      <td>来 比较 晚 吃饭 不太 方便 酒店 餐厅 吃 海鲜 自助 感觉 价格 稍微 偏高 一点 住...</td>\n",
              "      <td>[感觉, 房间, 方便, 比较, 餐厅]</td>\n",
              "    </tr>\n",
              "    <tr>\n",
              "      <th>422</th>\n",
              "      <td>1</td>\n",
              "      <td>我订的是行政房 但酒店给我免费升级到公寓房 是他们新的房子 房间设施 装修都非常不错 而且可...</td>\n",
              "      <td>我订 行政 房 酒店 给 免费 升级 公寓 房 新 房子 房间 设施 装修 非常 不错 延迟...</td>\n",
              "      <td>[交通, 公寓, 升级, 喜欢, 延迟, 房间, 方便, 行政, 装修, 设施, 附近, 非...</td>\n",
              "    </tr>\n",
              "  </tbody>\n",
              "</table>\n",
              "</div>"
            ],
            "text/plain": [
              "      label  ...                                               word\n",
              "818       1  ...                           [分钟, 勉强, 想象, 没有, 远处, 面对]\n",
              "7384      0  ...       [中等, 临街, 安全, 实际, 房间, 标准, 水壶, 水平, 没有, 电梯, 设施]\n",
              "2715      1  ...                                       [印象, 服务, 环境]\n",
              "2984      1  ...   [一般, 国内, 房间, 方便, 服务, 枕头, 特别, 直接, 细节, 缺乏, 金钟, 非常]\n",
              "5770      0  ...  [一般, 人员, 双层, 发票, 只是, 噪声, 对面, 广告, 开始, 感觉, 愤怒, 房...\n",
              "3950      1  ...  [不同, 丰富, 入住, 可能, 同样, 品种, 嘈杂, 学院, 安静, 希望, 带来, 广...\n",
              "926       1  ...                                   [区别, 协议, 感觉, 没有]\n",
              "696       1  ...                                           [一般, 方面]\n",
              "2943      1  ...                               [感觉, 房间, 方便, 比较, 餐厅]\n",
              "422       1  ...  [交通, 公寓, 升级, 喜欢, 延迟, 房间, 方便, 行政, 装修, 设施, 附近, 非...\n",
              "\n",
              "[10 rows x 4 columns]"
            ]
          },
          "metadata": {
            "tags": []
          },
          "execution_count": 23
        }
      ]
    },
    {
      "cell_type": "markdown",
      "metadata": {
        "id": "oUv8rIGckwr6",
        "colab_type": "text"
      },
      "source": [
        "## Initialize \"get result\" function and transform the word to result value"
      ]
    },
    {
      "cell_type": "markdown",
      "metadata": {
        "id": "uB4bmSqTk2_w",
        "colab_type": "text"
      },
      "source": [
        "### Define an object getLexicon to handle lexicon check"
      ]
    },
    {
      "cell_type": "code",
      "metadata": {
        "id": "wM_azRUdkZDE",
        "colab_type": "code",
        "colab": {}
      },
      "source": [
        "class getLexicon(object):\n",
        "    \n",
        "  def __init__(self, map_dict, map_list):\n",
        "    self.map_dict = map_dict\n",
        "    self.map_list = map_list\n",
        "    self.fillna = np.zeros_like(list(self.map_dict.values())[0])\n",
        "\n",
        "  def get_word_in_lexicon(self, x):\n",
        "    if not isinstance(x, (list, np.ndarray)):\n",
        "      x = eval(x)\n",
        "    r = [self.map_dict[i][np.newaxis, :] \n",
        "        for i in x if i in self.map_dict and len(self.map_dict[i]) > 0]\n",
        "    try:\n",
        "      r = np.concatenate(r, axis=0).sum(0)\n",
        "    except:\n",
        "      r = self.fillna\n",
        "    return r\n",
        "\n",
        "  def get_result(self,):\n",
        "    raise NotImplementedError(\"get result is not implemented!\")"
      ],
      "execution_count": 24,
      "outputs": []
    },
    {
      "cell_type": "markdown",
      "metadata": {
        "id": "eJdnRG3smdyh",
        "colab_type": "text"
      },
      "source": [
        "### Define two object to get lexicon result"
      ]
    },
    {
      "cell_type": "code",
      "metadata": {
        "id": "TPlgLC75lAo3",
        "colab_type": "code",
        "colab": {}
      },
      "source": [
        "from scipy.special import softmax\n",
        "\n",
        "\n",
        "class getSentiment(getLexicon):\n",
        "  \n",
        "  def __init__(self, **kwargs):\n",
        "    super().__init__(**kwargs)  # init getLexicon\n",
        "\n",
        "  def get_result(self, x):\n",
        "    r = self.get_word_in_lexicon(x)  # get word vector of a sentence\n",
        "\n",
        "    if sum(r) == 0:\n",
        "      return 'Neutral'\n",
        "    elif r[0] == r[1]:\n",
        "      return 'Neutral'\n",
        "    elif r.argmax() == 0:\n",
        "      return self.map_list[0]\n",
        "    else:\n",
        "      return self.map_list[1]\n",
        "\n",
        "\n",
        "class getEmotion(getLexicon):\n",
        "    \n",
        "  def __init__(self, topk=3, **kwargs):\n",
        "    super().__init__(**kwargs)  # init getLexicon\n",
        "    self.topk = topk\n",
        "\n",
        "  def get_result(self, x):\n",
        "    r = self.get_word_in_lexicon(x)  # get word vector of a sentence\n",
        "    r = softmax(r)\n",
        "    r = [self.map_list[i]\n",
        "        for i in r.argsort()[::-1][:(r > 1 / self.fillna.shape[0]).sum()]]\n",
        "    return ', '.join(r[:self.topk])\n",
        "  "
      ],
      "execution_count": 25,
      "outputs": []
    },
    {
      "cell_type": "code",
      "metadata": {
        "id": "XTZDQuQRljbY",
        "colab_type": "code",
        "colab": {}
      },
      "source": [
        "get_sen_fn = getSentiment(map_dict=nrc_sentiment, map_list=sentiment_list)\n",
        "get_emo_fn = getEmotion(map_dict=nrc_emotion, map_list=emotion_list)\n",
        "ChnSentiCorp_htl_ba_6000['sentiment_predict'] = ChnSentiCorp_htl_ba_6000.word.apply(get_sen_fn.get_result)\n",
        "ChnSentiCorp_htl_ba_6000['emotion_predict'] = ChnSentiCorp_htl_ba_6000.word.apply(get_emo_fn.get_result)\n",
        "\n",
        "ChnSentiCorp_htl_ba_6000.label = ChnSentiCorp_htl_ba_6000.label.map({0: 'Negative', 1: 'Positive'})\n",
        "\n",
        "result = ChnSentiCorp_htl_ba_6000[['review', 'label', 'sentiment_predict', 'emotion_predict']].copy()"
      ],
      "execution_count": 26,
      "outputs": []
    },
    {
      "cell_type": "markdown",
      "metadata": {
        "id": "Oxd9hI_fmwky",
        "colab_type": "text"
      },
      "source": [
        "### **Check result**"
      ]
    },
    {
      "cell_type": "code",
      "metadata": {
        "id": "W6NpFG1AmU_L",
        "colab_type": "code",
        "colab": {
          "base_uri": "https://localhost:8080/",
          "height": 718
        },
        "outputId": "1e05e867-7a86-4249-ff36-071223f15685"
      },
      "source": [
        "result.sample(15, random_state=seed)"
      ],
      "execution_count": 27,
      "outputs": [
        {
          "output_type": "execute_result",
          "data": {
            "text/html": [
              "<div>\n",
              "<style scoped>\n",
              "    .dataframe tbody tr th:only-of-type {\n",
              "        vertical-align: middle;\n",
              "    }\n",
              "\n",
              "    .dataframe tbody tr th {\n",
              "        vertical-align: top;\n",
              "    }\n",
              "\n",
              "    .dataframe thead th {\n",
              "        text-align: right;\n",
              "    }\n",
              "</style>\n",
              "<table border=\"1\" class=\"dataframe\">\n",
              "  <thead>\n",
              "    <tr style=\"text-align: right;\">\n",
              "      <th></th>\n",
              "      <th>review</th>\n",
              "      <th>label</th>\n",
              "      <th>sentiment_predict</th>\n",
              "      <th>emotion_predict</th>\n",
              "    </tr>\n",
              "  </thead>\n",
              "  <tbody>\n",
              "    <tr>\n",
              "      <th>818</th>\n",
              "      <td>没有想象的离西湖近 年轻人走走也得10 15分钟 因为窗不是面对西湖的 所以景基本看不到西湖...</td>\n",
              "      <td>Positive</td>\n",
              "      <td>Negative</td>\n",
              "      <td>Anger</td>\n",
              "    </tr>\n",
              "    <tr>\n",
              "      <th>7384</th>\n",
              "      <td>住的标准单人间实在是小 房间里一张大床已经塞得满满的了 设施极其简陋除了电视机和烧水壶其他什...</td>\n",
              "      <td>Negative</td>\n",
              "      <td>Positive</td>\n",
              "      <td>Trust, Joy</td>\n",
              "    </tr>\n",
              "    <tr>\n",
              "      <th>2715</th>\n",
              "      <td>初到当地 在携程上订了一晚这家酒店 印象中原来认为新疆很偏僻 没想到酒店的环境及服务与内地的...</td>\n",
              "      <td>Positive</td>\n",
              "      <td>Neutral</td>\n",
              "      <td>Trust</td>\n",
              "    </tr>\n",
              "    <tr>\n",
              "      <th>2984</th>\n",
              "      <td>酒店的床比一般的香港酒店大 双人房的床都很大 枕头超多超舒服 酒店正好在金钟的正上方 逛街很...</td>\n",
              "      <td>Positive</td>\n",
              "      <td>Positive</td>\n",
              "      <td>Trust, Sadness, Surprise</td>\n",
              "    </tr>\n",
              "    <tr>\n",
              "      <th>5770</th>\n",
              "      <td>在网上综合考虑后 并打电话给汉庭 汉庭说靠街边的窗户都换成双层窗户 隔音很好 也有停车场 汉...</td>\n",
              "      <td>Negative</td>\n",
              "      <td>Negative</td>\n",
              "      <td>Trust, Anticipation</td>\n",
              "    </tr>\n",
              "    <tr>\n",
              "      <th>3950</th>\n",
              "      <td>总体感觉很不错 酒店硬件和软件都还满意 前台服务生服务热情到位 房间安静 不嘈杂 总体房间还...</td>\n",
              "      <td>Positive</td>\n",
              "      <td>Positive</td>\n",
              "      <td>Trust</td>\n",
              "    </tr>\n",
              "    <tr>\n",
              "      <th>926</th>\n",
              "      <td>感觉还算可以的 不过没有香格里拉那么好 价格和协议的也没什么区别 所以还是去香格里拉较划算点</td>\n",
              "      <td>Positive</td>\n",
              "      <td>Neutral</td>\n",
              "      <td>Trust</td>\n",
              "    </tr>\n",
              "    <tr>\n",
              "      <th>696</th>\n",
              "      <td>各方面都一般 只要期望值不太高就还可以</td>\n",
              "      <td>Positive</td>\n",
              "      <td>Positive</td>\n",
              "      <td>Trust</td>\n",
              "    </tr>\n",
              "    <tr>\n",
              "      <th>2943</th>\n",
              "      <td>这次来的比较晚 出去吃饭不太方便 就在酒店的餐厅吃的海鲜自助 还可以 不过感觉价格稍微偏高了...</td>\n",
              "      <td>Positive</td>\n",
              "      <td>Positive</td>\n",
              "      <td>Trust, Surprise, Sadness</td>\n",
              "    </tr>\n",
              "    <tr>\n",
              "      <th>422</th>\n",
              "      <td>我订的是行政房 但酒店给我免费升级到公寓房 是他们新的房子 房间设施 装修都非常不错 而且可...</td>\n",
              "      <td>Positive</td>\n",
              "      <td>Positive</td>\n",
              "      <td>Joy, Sadness, Anger</td>\n",
              "    </tr>\n",
              "    <tr>\n",
              "      <th>6463</th>\n",
              "      <td>差得要命 很大股霉味 勉强住了一晚 第二天大早赶紧溜</td>\n",
              "      <td>Negative</td>\n",
              "      <td>Negative</td>\n",
              "      <td>Trust, Surprise, Sadness</td>\n",
              "    </tr>\n",
              "    <tr>\n",
              "      <th>617</th>\n",
              "      <td>订家庭间入住的是虹口商务酒店 因为到达之后临时改订单 与前台小姐发生了点不愉快 但之后的客房...</td>\n",
              "      <td>Positive</td>\n",
              "      <td>Negative</td>\n",
              "      <td>Anticipation</td>\n",
              "    </tr>\n",
              "    <tr>\n",
              "      <th>1434</th>\n",
              "      <td>房间环境还行 还有液晶电脑 晚上还有水果 就是周围购物要走点路 整体还行</td>\n",
              "      <td>Positive</td>\n",
              "      <td>Positive</td>\n",
              "      <td>Trust, Surprise, Joy</td>\n",
              "    </tr>\n",
              "    <tr>\n",
              "      <th>3911</th>\n",
              "      <td>跟众人评价的差不多 商务大床的房间比浦东店的要小很多 总体来说这个价位来讲设施还是蛮好的 宾...</td>\n",
              "      <td>Positive</td>\n",
              "      <td>Positive</td>\n",
              "      <td>Trust</td>\n",
              "    </tr>\n",
              "    <tr>\n",
              "      <th>6337</th>\n",
              "      <td>175元入住标房B 大厅和电梯里有异味 房间里桌子也没擦干净 洗浴间装潢等设备太旧 早饭很差...</td>\n",
              "      <td>Negative</td>\n",
              "      <td>Positive</td>\n",
              "      <td>Trust, Surprise, Joy</td>\n",
              "    </tr>\n",
              "  </tbody>\n",
              "</table>\n",
              "</div>"
            ],
            "text/plain": [
              "                                                 review  ...           emotion_predict\n",
              "818   没有想象的离西湖近 年轻人走走也得10 15分钟 因为窗不是面对西湖的 所以景基本看不到西湖...  ...                     Anger\n",
              "7384  住的标准单人间实在是小 房间里一张大床已经塞得满满的了 设施极其简陋除了电视机和烧水壶其他什...  ...                Trust, Joy\n",
              "2715  初到当地 在携程上订了一晚这家酒店 印象中原来认为新疆很偏僻 没想到酒店的环境及服务与内地的...  ...                     Trust\n",
              "2984  酒店的床比一般的香港酒店大 双人房的床都很大 枕头超多超舒服 酒店正好在金钟的正上方 逛街很...  ...  Trust, Sadness, Surprise\n",
              "5770  在网上综合考虑后 并打电话给汉庭 汉庭说靠街边的窗户都换成双层窗户 隔音很好 也有停车场 汉...  ...       Trust, Anticipation\n",
              "3950  总体感觉很不错 酒店硬件和软件都还满意 前台服务生服务热情到位 房间安静 不嘈杂 总体房间还...  ...                     Trust\n",
              "926     感觉还算可以的 不过没有香格里拉那么好 价格和协议的也没什么区别 所以还是去香格里拉较划算点   ...                     Trust\n",
              "696                                各方面都一般 只要期望值不太高就还可以   ...                     Trust\n",
              "2943  这次来的比较晚 出去吃饭不太方便 就在酒店的餐厅吃的海鲜自助 还可以 不过感觉价格稍微偏高了...  ...  Trust, Surprise, Sadness\n",
              "422   我订的是行政房 但酒店给我免费升级到公寓房 是他们新的房子 房间设施 装修都非常不错 而且可...  ...       Joy, Sadness, Anger\n",
              "6463                         差得要命 很大股霉味 勉强住了一晚 第二天大早赶紧溜  ...  Trust, Surprise, Sadness\n",
              "617   订家庭间入住的是虹口商务酒店 因为到达之后临时改订单 与前台小姐发生了点不愉快 但之后的客房...  ...              Anticipation\n",
              "1434               房间环境还行 还有液晶电脑 晚上还有水果 就是周围购物要走点路 整体还行  ...      Trust, Surprise, Joy\n",
              "3911  跟众人评价的差不多 商务大床的房间比浦东店的要小很多 总体来说这个价位来讲设施还是蛮好的 宾...  ...                     Trust\n",
              "6337  175元入住标房B 大厅和电梯里有异味 房间里桌子也没擦干净 洗浴间装潢等设备太旧 早饭很差...  ...      Trust, Surprise, Joy\n",
              "\n",
              "[15 rows x 4 columns]"
            ]
          },
          "metadata": {
            "tags": []
          },
          "execution_count": 27
        }
      ]
    },
    {
      "cell_type": "markdown",
      "metadata": {
        "id": "BnE0CDuNm72q",
        "colab_type": "text"
      },
      "source": [
        "### check correct answer result"
      ]
    },
    {
      "cell_type": "code",
      "metadata": {
        "id": "pA6ezwA8mVu0",
        "colab_type": "code",
        "colab": {
          "base_uri": "https://localhost:8080/",
          "height": 667
        },
        "outputId": "0b2ca8c7-6e6c-4a1b-feff-d6ffcb0a7c1c"
      },
      "source": [
        "result[(result.label == result.sentiment_predict) & (result.emotion_predict.str.len() > 0)].sample(15, random_state=seed)"
      ],
      "execution_count": 28,
      "outputs": [
        {
          "output_type": "execute_result",
          "data": {
            "text/html": [
              "<div>\n",
              "<style scoped>\n",
              "    .dataframe tbody tr th:only-of-type {\n",
              "        vertical-align: middle;\n",
              "    }\n",
              "\n",
              "    .dataframe tbody tr th {\n",
              "        vertical-align: top;\n",
              "    }\n",
              "\n",
              "    .dataframe thead th {\n",
              "        text-align: right;\n",
              "    }\n",
              "</style>\n",
              "<table border=\"1\" class=\"dataframe\">\n",
              "  <thead>\n",
              "    <tr style=\"text-align: right;\">\n",
              "      <th></th>\n",
              "      <th>review</th>\n",
              "      <th>label</th>\n",
              "      <th>sentiment_predict</th>\n",
              "      <th>emotion_predict</th>\n",
              "    </tr>\n",
              "  </thead>\n",
              "  <tbody>\n",
              "    <tr>\n",
              "      <th>4578</th>\n",
              "      <td>还不错 经济实惠 条件也不错 反正我习惯这补充点评2008年4月10日 补充下 靠街的房间有...</td>\n",
              "      <td>Positive</td>\n",
              "      <td>Positive</td>\n",
              "      <td>Trust, Anticipation</td>\n",
              "    </tr>\n",
              "    <tr>\n",
              "      <th>5377</th>\n",
              "      <td>太差 脏 差 我住过的最不好的酒店 以后决不住了</td>\n",
              "      <td>Negative</td>\n",
              "      <td>Negative</td>\n",
              "      <td>Trust, Surprise, Sadness</td>\n",
              "    </tr>\n",
              "    <tr>\n",
              "      <th>1207</th>\n",
              "      <td>朋友推荐的宾馆 位置方便 价格合理 高楼的房间面积很宽敞 前台登记和退房时间很快 服务感觉不...</td>\n",
              "      <td>Positive</td>\n",
              "      <td>Positive</td>\n",
              "      <td>Trust</td>\n",
              "    </tr>\n",
              "    <tr>\n",
              "      <th>5331</th>\n",
              "      <td>房间的环境非常差 而且房间还不隔音 住的不舒服</td>\n",
              "      <td>Negative</td>\n",
              "      <td>Negative</td>\n",
              "      <td>Sadness</td>\n",
              "    </tr>\n",
              "    <tr>\n",
              "      <th>3858</th>\n",
              "      <td>全家去千岛湖旅行 住了3家洒店 千岛湖 杭州 湖州各住一晚 同是三星 假日的硬件设施最逊 我...</td>\n",
              "      <td>Positive</td>\n",
              "      <td>Positive</td>\n",
              "      <td>Joy, Anticipation, Trust</td>\n",
              "    </tr>\n",
              "    <tr>\n",
              "      <th>3765</th>\n",
              "      <td>不是特别满意位置不太好但价格比较合理去了才知道 他是3星级的 外表有点旧旧的</td>\n",
              "      <td>Positive</td>\n",
              "      <td>Positive</td>\n",
              "      <td>Joy</td>\n",
              "    </tr>\n",
              "    <tr>\n",
              "      <th>1378</th>\n",
              "      <td>性价比非常好的酒店 房间设施超好 卫生间分了3个部分 淋浴房 卫生间 化妆间 非常干净 装修...</td>\n",
              "      <td>Positive</td>\n",
              "      <td>Positive</td>\n",
              "      <td>Sadness, Joy, Anticipation</td>\n",
              "    </tr>\n",
              "    <tr>\n",
              "      <th>6019</th>\n",
              "      <td>服务非常差 环境不好 建议别去 提前一个星期就定好了 并且定了加床 到了前台告诉我们能加闯的...</td>\n",
              "      <td>Negative</td>\n",
              "      <td>Negative</td>\n",
              "      <td>Trust, Sadness</td>\n",
              "    </tr>\n",
              "    <tr>\n",
              "      <th>383</th>\n",
              "      <td>房间干净整齐 服务员态度很好 不过餐厅一般 给我的早餐券上的套餐与餐厅的套餐不符</td>\n",
              "      <td>Positive</td>\n",
              "      <td>Positive</td>\n",
              "      <td>Trust</td>\n",
              "    </tr>\n",
              "    <tr>\n",
              "      <th>3383</th>\n",
              "      <td>酒店的地理位置优越 适合办公人事入住 服务也比较到位 下次会继续考虑</td>\n",
              "      <td>Positive</td>\n",
              "      <td>Positive</td>\n",
              "      <td>Trust, Anger</td>\n",
              "    </tr>\n",
              "    <tr>\n",
              "      <th>6</th>\n",
              "      <td>价格比比较不错的酒店 这次免费升级了 感谢前台服务员 房子还好 地毯是新的 比上次的好些 早...</td>\n",
              "      <td>Positive</td>\n",
              "      <td>Positive</td>\n",
              "      <td>Trust, Joy, Anger</td>\n",
              "    </tr>\n",
              "    <tr>\n",
              "      <th>92</th>\n",
              "      <td>我们从6月21日到6月25日在亚太 二期 一共住了四个晚上 原本想在这个酒店住两天 再到亚龙...</td>\n",
              "      <td>Positive</td>\n",
              "      <td>Positive</td>\n",
              "      <td>Trust</td>\n",
              "    </tr>\n",
              "    <tr>\n",
              "      <th>267</th>\n",
              "      <td>性价比不错的酒店 交通也很方便 值得一提是 宾馆斜对面走不多远就是海鲜一条街 很便宜 很实惠...</td>\n",
              "      <td>Positive</td>\n",
              "      <td>Positive</td>\n",
              "      <td>Trust, Surprise, Sadness</td>\n",
              "    </tr>\n",
              "    <tr>\n",
              "      <th>4951</th>\n",
              "      <td>很放松的一个酒店 很好 儿子尤其喜欢游泳池的设计 吃的选择少了点 只有主题公园来弥补了 总的...</td>\n",
              "      <td>Positive</td>\n",
              "      <td>Positive</td>\n",
              "      <td>Trust, Joy</td>\n",
              "    </tr>\n",
              "    <tr>\n",
              "      <th>4599</th>\n",
              "      <td>2008年1月16 20日 C楼405房间入住 也是看了前面的兄弟给的评价去的 大厅正中央挂...</td>\n",
              "      <td>Positive</td>\n",
              "      <td>Positive</td>\n",
              "      <td>Trust, Joy</td>\n",
              "    </tr>\n",
              "  </tbody>\n",
              "</table>\n",
              "</div>"
            ],
            "text/plain": [
              "                                                 review  ...             emotion_predict\n",
              "4578  还不错 经济实惠 条件也不错 反正我习惯这补充点评2008年4月10日 补充下 靠街的房间有...  ...         Trust, Anticipation\n",
              "5377                           太差 脏 差 我住过的最不好的酒店 以后决不住了  ...    Trust, Surprise, Sadness\n",
              "1207  朋友推荐的宾馆 位置方便 价格合理 高楼的房间面积很宽敞 前台登记和退房时间很快 服务感觉不...  ...                       Trust\n",
              "5331                           房间的环境非常差 而且房间还不隔音 住的不舒服   ...                     Sadness\n",
              "3858  全家去千岛湖旅行 住了3家洒店 千岛湖 杭州 湖州各住一晚 同是三星 假日的硬件设施最逊 我...  ...    Joy, Anticipation, Trust\n",
              "3765             不是特别满意位置不太好但价格比较合理去了才知道 他是3星级的 外表有点旧旧的  ...                         Joy\n",
              "1378  性价比非常好的酒店 房间设施超好 卫生间分了3个部分 淋浴房 卫生间 化妆间 非常干净 装修...  ...  Sadness, Joy, Anticipation\n",
              "6019  服务非常差 环境不好 建议别去 提前一个星期就定好了 并且定了加床 到了前台告诉我们能加闯的...  ...              Trust, Sadness\n",
              "383            房间干净整齐 服务员态度很好 不过餐厅一般 给我的早餐券上的套餐与餐厅的套餐不符  ...                       Trust\n",
              "3383                 酒店的地理位置优越 适合办公人事入住 服务也比较到位 下次会继续考虑  ...                Trust, Anger\n",
              "6     价格比比较不错的酒店 这次免费升级了 感谢前台服务员 房子还好 地毯是新的 比上次的好些 早...  ...           Trust, Joy, Anger\n",
              "92    我们从6月21日到6月25日在亚太 二期 一共住了四个晚上 原本想在这个酒店住两天 再到亚龙...  ...                       Trust\n",
              "267   性价比不错的酒店 交通也很方便 值得一提是 宾馆斜对面走不多远就是海鲜一条街 很便宜 很实惠...  ...    Trust, Surprise, Sadness\n",
              "4951  很放松的一个酒店 很好 儿子尤其喜欢游泳池的设计 吃的选择少了点 只有主题公园来弥补了 总的...  ...                  Trust, Joy\n",
              "4599  2008年1月16 20日 C楼405房间入住 也是看了前面的兄弟给的评价去的 大厅正中央挂...  ...                  Trust, Joy\n",
              "\n",
              "[15 rows x 4 columns]"
            ]
          },
          "metadata": {
            "tags": []
          },
          "execution_count": 28
        }
      ]
    },
    {
      "cell_type": "markdown",
      "metadata": {
        "id": "mcejxKwxnJ7C",
        "colab_type": "text"
      },
      "source": [
        "### check wrong answer result"
      ]
    },
    {
      "cell_type": "code",
      "metadata": {
        "id": "kRhVzE34nAo_",
        "colab_type": "code",
        "colab": {}
      },
      "source": [
        "result[(result.label != result.sentiment_predict) & (result.emotion_predict.str.len() > 0)].sample(15, random_state=seed)"
      ],
      "execution_count": null,
      "outputs": []
    },
    {
      "cell_type": "markdown",
      "metadata": {
        "id": "URsRMl-CncDT",
        "colab_type": "text"
      },
      "source": [
        "## **Define Metric Object**"
      ]
    },
    {
      "cell_type": "code",
      "metadata": {
        "id": "pkmnZYzOnMuf",
        "colab_type": "code",
        "colab": {}
      },
      "source": [
        "from sklearn.metrics import log_loss\n",
        "from sklearn.metrics import accuracy_score\n",
        "from sklearn.metrics import precision_recall_fscore_support\n",
        "\n",
        "\n",
        "class Metric(object):\n",
        "\n",
        "  def __init__(self, y_true):\n",
        "    self.y_true = y_true\n",
        "      \n",
        "  def get_metric(self, y_pred, y_true=None):\n",
        "    if y_true is None:\n",
        "      y_true = self.y_true\n",
        "    \n",
        "    loss = np.nan\n",
        "    if y_pred.ndim > 1:\n",
        "      loss = log_loss(y_true=y_true, y_pred=y_pred)\n",
        "      y_pred = y_pred.argmax(axis=1)\n",
        "    \n",
        "    acuuracy = accuracy_score(y_true=y_true, y_pred=y_pred)\n",
        "    precision, recall, f_score, _ = precision_recall_fscore_support(\n",
        "      y_true=y_true, y_pred=y_pred, average='macro', zero_division='warn')\n",
        "    \n",
        "    print('loss:', loss)\n",
        "    print('acuuracy:', acuuracy)\n",
        "    print('precision:', precision)\n",
        "    print('recall:', recall)\n",
        "    print('f_score:', f_score)\n",
        "\n",
        "\n",
        "sentiment_result_map = {'Positive': 1, 'Negative': 0}\n",
        "metric_fn = Metric(y_true=ChnSentiCorp_htl_ba_6000.label.map(sentiment_result_map))"
      ],
      "execution_count": 29,
      "outputs": []
    },
    {
      "cell_type": "markdown",
      "metadata": {
        "id": "uj7eVkFwn5xm",
        "colab_type": "text"
      },
      "source": [
        "### Transfer Neutral as opposite result and trans"
      ]
    },
    {
      "cell_type": "code",
      "metadata": {
        "id": "7ALpCbhKneqq",
        "colab_type": "code",
        "colab": {}
      },
      "source": [
        "pred = result[['label', 'sentiment_predict']].copy()\n",
        "\n",
        "neutral_index = (pred.sentiment_predict == 'Neutral')\n",
        "\n",
        "opposite_transform = lambda x: list(set(['Negative', 'Positive']) - set([x]))[0]\n",
        "pred.loc[neutral_index, 'sentiment_predict'] = pred.loc[neutral_index, 'label'].apply(opposite_transform)\n",
        "\n",
        "pred = pred.sentiment_predict.map(sentiment_result_map)"
      ],
      "execution_count": 30,
      "outputs": []
    },
    {
      "cell_type": "markdown",
      "metadata": {
        "id": "1gxw80PqohsQ",
        "colab_type": "text"
      },
      "source": [
        "### Get metric result"
      ]
    },
    {
      "cell_type": "code",
      "metadata": {
        "id": "2JER_WHFoQA_",
        "colab_type": "code",
        "colab": {
          "base_uri": "https://localhost:8080/",
          "height": 107
        },
        "outputId": "00b8e22d-44ba-4a33-fe2f-969f132b2f90"
      },
      "source": [
        "metric_fn.get_metric(pred)"
      ],
      "execution_count": 31,
      "outputs": [
        {
          "output_type": "stream",
          "text": [
            "loss: nan\n",
            "acuuracy: 0.4706666666666667\n",
            "precision: 0.46035500292832365\n",
            "recall: 0.4706666666666667\n",
            "f_score: 0.4338529550700999\n"
          ],
          "name": "stdout"
        }
      ]
    },
    {
      "cell_type": "code",
      "metadata": {
        "id": "A7_1ivTJoQyE",
        "colab_type": "code",
        "colab": {}
      },
      "source": [
        ""
      ],
      "execution_count": null,
      "outputs": []
    }
  ]
}